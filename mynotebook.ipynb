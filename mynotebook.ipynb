{
 "cells": [
  {
   "cell_type": "markdown",
   "metadata": {},
   "source": [
    "# 产品内码与EPC码转换规则\n",
    "EPC码标头二进制值设定为00010000"
   ]
  },
  {
   "cell_type": "code",
   "execution_count": null,
   "metadata": {},
   "outputs": [],
   "source": [
    "header = '00010000'"
   ]
  },
  {
   "cell_type": "markdown",
   "metadata": {},
   "source": [
    "## 1、产品内码转EPC码\n",
    "产品内码分为纯数字型（如:* 49531001649100 * ）和字母数字混合型( 如:* 24310100100148A * )。 \n",
    "通过1位bit过滤值来区分。0表示数字型，1表示字母数字混合型。"
   ]
  },
  {
   "cell_type": "code",
   "execution_count": 3,
   "metadata": {},
   "outputs": [
    {
     "name": "stdout",
     "output_type": "stream",
     "text": [
      "内码为49531001649100时，过滤值为0\n",
      "内码为24310100100148A时，过滤值为1\n"
     ]
    }
   ],
   "source": [
    "import re\n",
    "\n",
    "# 预定失败消息\n",
    "fail = {'valid': False, }\n",
    "\n",
    "# 异常\n",
    "class HandleError(RuntimeError):\n",
    "    def __init__(self, arg):\n",
    "        self.args = arg\n",
    "\n",
    "inner_num_code = '49531001649100'\n",
    "inner_mix_code = '24310100100148A'\n",
    "\n",
    "def filter(inner_code):\n",
    "    filter = '0'\n",
    "    if (re.match('^[\\d]+$', inner_code)):\n",
    "        filter = '0'\n",
    "    elif (re.match('^(?!\\d+$)[\\da-zA-Z]+$',inner_code)):\n",
    "        filter = '1'\n",
    "    else:\n",
    "        raise HandleError('产品内码不符合规范')    \n",
    "    return filter\n",
    "\n",
    "\n",
    "print('内码为{0}时，过滤值为{1}'.format(inner_num_code,filter(inner_num_code)))\n",
    "print('内码为{0}时，过滤值为{1}'.format(inner_mix_code,filter(inner_mix_code)))      "
   ]
  },
  {
   "cell_type": "code",
   "execution_count": 4,
   "metadata": {},
   "outputs": [
    {
     "name": "stdout",
     "output_type": "stream",
     "text": [
      "内码为49531001649100时，补位结果为149531001649100\n",
      "内码为24310100100148A时，补位结果为24310100100148A\n"
     ]
    }
   ],
   "source": [
    "def padInnerCode(inner_code):\n",
    "    if (filter(inner_code) == '0'):        \n",
    "        return '1' + inner_code\n",
    "    else:\n",
    "        return inner_code\n",
    "    \n",
    "print('内码为{0}时，补位结果为{1}'.format(inner_num_code,padInnerCode(inner_num_code)))\n",
    "print('内码为{0}时，补位结果为{1}'.format(inner_mix_code,padInnerCode(inner_mix_code)))"
   ]
  },
  {
   "cell_type": "markdown",
   "metadata": {},
   "source": [
    "如果过滤值为0，则在高位补1"
   ]
  },
  {
   "cell_type": "code",
   "execution_count": 6,
   "metadata": {},
   "outputs": [
    {
     "name": "stdout",
     "output_type": "stream",
     "text": [
      "内码为49531001649100时，补位结果为149531001649100\n",
      "内码为24310100100148A时，补位结果为24310100100148A\n"
     ]
    }
   ],
   "source": [
    "def padInnerCode(inner_code):\n",
    "    if (filter(inner_code) == '0'):        \n",
    "        return '1' + inner_code\n",
    "    else:\n",
    "        return inner_code\n",
    "    \n",
    "print('内码为{0}时，补位结果为{1}'.format(inner_num_code,padInnerCode(inner_num_code)))\n",
    "print('内码为{0}时，补位结果为{1}'.format(inner_mix_code,padInnerCode(inner_mix_code)))"
   ]
  },
  {
   "cell_type": "markdown",
   "metadata": {},
   "source": [
    "如果过滤值为0，直接将十进制字符串转为二进制字符串。如果过滤值为1，将字符串按位编码。\n",
    "编码规则:\n",
    "'0'\\~'9'转为十进制的0\\~9，'a'\\~'z'转为十进制的10\\~35,'A'\\~'Z'转为十进制的36\\~61,所以需要每个字符串需要6位即最大值2<sup>6</sup> = 64来表示所有的字符。"
   ]
  },
  {
   "cell_type": "code",
   "execution_count": 11,
   "metadata": {},
   "outputs": [
    {
     "name": "stdout",
     "output_type": "stream",
     "text": [
      "内码为49531001649100时，二进制字符串为0b100001111111111101100110001111000111011111001100\n"
     ]
    },
    {
     "ename": "UnboundLocalError",
     "evalue": "local variable 'bin_str' referenced before assignment",
     "output_type": "error",
     "traceback": [
      "\u001b[0;31m---------------------------------------------------------------------------\u001b[0m",
      "\u001b[0;31mUnboundLocalError\u001b[0m                         Traceback (most recent call last)",
      "\u001b[0;32m<ipython-input-11-eba429e5ee0f>\u001b[0m in \u001b[0;36m<module>\u001b[0;34m\u001b[0m\n\u001b[1;32m      8\u001b[0m \u001b[0;34m\u001b[0m\u001b[0m\n\u001b[1;32m      9\u001b[0m \u001b[0mprint\u001b[0m\u001b[0;34m(\u001b[0m\u001b[0;34m'内码为{0}时，二进制字符串为{1}'\u001b[0m\u001b[0;34m.\u001b[0m\u001b[0mformat\u001b[0m\u001b[0;34m(\u001b[0m\u001b[0minner_num_code\u001b[0m\u001b[0;34m,\u001b[0m\u001b[0minnerCode2Bin\u001b[0m\u001b[0;34m(\u001b[0m\u001b[0minner_num_code\u001b[0m\u001b[0;34m)\u001b[0m\u001b[0;34m)\u001b[0m\u001b[0;34m)\u001b[0m\u001b[0;34m\u001b[0m\u001b[0;34m\u001b[0m\u001b[0m\n\u001b[0;32m---> 10\u001b[0;31m \u001b[0mprint\u001b[0m\u001b[0;34m(\u001b[0m\u001b[0;34m'内码为{0}时，二进制字符串为{1}'\u001b[0m\u001b[0;34m.\u001b[0m\u001b[0mformat\u001b[0m\u001b[0;34m(\u001b[0m\u001b[0minner_mix_code\u001b[0m\u001b[0;34m,\u001b[0m\u001b[0minnerCode2Bin\u001b[0m\u001b[0;34m(\u001b[0m\u001b[0minner_mix_code\u001b[0m\u001b[0;34m)\u001b[0m\u001b[0;34m)\u001b[0m\u001b[0;34m)\u001b[0m\u001b[0;34m\u001b[0m\u001b[0;34m\u001b[0m\u001b[0m\n\u001b[0m",
      "\u001b[0;32m<ipython-input-11-eba429e5ee0f>\u001b[0m in \u001b[0;36minnerCode2Bin\u001b[0;34m(inner_code)\u001b[0m\n\u001b[1;32m      4\u001b[0m     \u001b[0;32melse\u001b[0m\u001b[0;34m:\u001b[0m\u001b[0;34m\u001b[0m\u001b[0;34m\u001b[0m\u001b[0m\n\u001b[1;32m      5\u001b[0m         \u001b[0;32mfor\u001b[0m \u001b[0mc\u001b[0m \u001b[0;32min\u001b[0m \u001b[0mpadInnerCode\u001b[0m\u001b[0;34m(\u001b[0m\u001b[0minner_code\u001b[0m\u001b[0;34m)\u001b[0m\u001b[0;34m:\u001b[0m\u001b[0;34m\u001b[0m\u001b[0;34m\u001b[0m\u001b[0m\n\u001b[0;32m----> 6\u001b[0;31m             \u001b[0mbin_str\u001b[0m \u001b[0;34m+=\u001b[0m \u001b[0mbin\u001b[0m\u001b[0;34m(\u001b[0m\u001b[0mord\u001b[0m\u001b[0;34m(\u001b[0m\u001b[0mc\u001b[0m\u001b[0;34m)\u001b[0m\u001b[0;34m-\u001b[0m\u001b[0;36m87\u001b[0m\u001b[0;34m)\u001b[0m\u001b[0;34m\u001b[0m\u001b[0;34m\u001b[0m\u001b[0m\n\u001b[0m\u001b[1;32m      7\u001b[0m         \u001b[0;32mreturn\u001b[0m \u001b[0mbin_str\u001b[0m\u001b[0;34m\u001b[0m\u001b[0;34m\u001b[0m\u001b[0m\n\u001b[1;32m      8\u001b[0m \u001b[0;34m\u001b[0m\u001b[0m\n",
      "\u001b[0;31mUnboundLocalError\u001b[0m: local variable 'bin_str' referenced before assignment"
     ]
    }
   ],
   "source": [
    "def innerCode2Bin(inner_code):\n",
    "    if (filter(inner_code) == '0'): \n",
    "        return bin(int(padInnerCode(inner_code)))\n",
    "    else:\n",
    "        for c in padInnerCode(inner_code):\n",
    "            bin_str += bin(ord(c)-87)\n",
    "        return bin_str\n",
    "    \n",
    "print('内码为{0}时，二进制字符串为{1}'.format(inner_num_code,innerCode2Bin(inner_num_code)))\n",
    "print('内码为{0}时，二进制字符串为{1}'.format(inner_mix_code,innerCode2Bin(inner_mix_code)))    "
   ]
  },
  {
   "cell_type": "markdown",
   "metadata": {},
   "source": [
    "### 2、纯数字型内码转EPC步骤\n",
    "#### 1、在内码高位补1，* 49531001649100 * 转为 * 149531001649100 *"
   ]
  },
  {
   "cell_type": "code",
   "execution_count": 13,
   "metadata": {},
   "outputs": [
    {
     "data": {
      "text/plain": [
       "'149531001649100'"
      ]
     },
     "execution_count": 13,
     "metadata": {},
     "output_type": "execute_result"
    }
   ],
   "source": [
    "identify = '1'\n",
    "def handle(event):\n",
    "    return identify + event\n",
    "\n",
    "handle(inner_code)"
   ]
  },
  {
   "cell_type": "markdown",
   "metadata": {},
   "source": [
    "### 3、字母数字混合型内码转EPC步骤\n",
    "#### 1、"
   ]
  }
 ],
 "metadata": {
  "kernelspec": {
   "display_name": "Python 3",
   "language": "python",
   "name": "python3"
  },
  "language_info": {
   "codemirror_mode": {
    "name": "ipython",
    "version": 3
   },
   "file_extension": ".py",
   "mimetype": "text/x-python",
   "name": "python",
   "nbconvert_exporter": "python",
   "pygments_lexer": "ipython3",
   "version": "3.7.6"
  }
 },
 "nbformat": 4,
 "nbformat_minor": 4
}
