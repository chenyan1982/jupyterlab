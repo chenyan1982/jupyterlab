{
 "cells": [
  {
   "cell_type": "markdown",
   "metadata": {},
   "source": [
    "# 产品内码与EPC码转换规则\n",
    "EPC码标头二进制值设定为00010000"
   ]
  },
  {
   "cell_type": "code",
   "execution_count": 2,
   "metadata": {},
   "outputs": [],
   "source": [
    "header = '00010000'"
   ]
  },
  {
   "cell_type": "markdown",
   "metadata": {},
   "source": [
    "## 1、产品内码转EPC码\n",
    "产品内码分为纯数字型（如:* 49531001649100 * ）和字母数字混合型( 如:* 24310100100148A * )。 \n",
    "通过1位bit过滤值来区分。0表示数字型，1表示字母数字混合型。"
   ]
  },
  {
   "cell_type": "code",
   "execution_count": 3,
   "metadata": {},
   "outputs": [
    {
     "name": "stdout",
     "output_type": "stream",
     "text": [
      "内码为49531001649100时，过滤值为0\n",
      "内码为24310100100148A时，过滤值为1\n"
     ]
    }
   ],
   "source": [
    "import re\n",
    "\n",
    "# 预定失败消息\n",
    "fail = {'valid': False, }\n",
    "\n",
    "# 异常\n",
    "class HandleError(RuntimeError):\n",
    "    def __init__(self, arg):\n",
    "        self.args = arg\n",
    "\n",
    "inner_num_code = '49531001649100'\n",
    "inner_mix_code = '24310100100148A'\n",
    "\n",
    "def filter(inner_code):\n",
    "    filter = '0'\n",
    "    if (re.match('^[\\d]+$', inner_code)):\n",
    "        filter = '0'\n",
    "    elif (re.match('^(?!\\d+$)[\\da-zA-Z]+$',inner_code)):\n",
    "        filter = '1'\n",
    "    else:\n",
    "        raise HandleError('产品内码不符合规范')    \n",
    "    return filter\n",
    "\n",
    "\n",
    "print('内码为{0}时，过滤值为{1}'.format(inner_num_code,filter(inner_num_code)))\n",
    "print('内码为{0}时，过滤值为{1}'.format(inner_mix_code,filter(inner_mix_code)))      "
   ]
  },
  {
   "cell_type": "code",
   "execution_count": 4,
   "metadata": {},
   "outputs": [
    {
     "name": "stdout",
     "output_type": "stream",
     "text": [
      "内码为49531001649100时，补位结果为149531001649100\n",
      "内码为24310100100148A时，补位结果为24310100100148A\n"
     ]
    }
   ],
   "source": [
    "def padInnerCode(inner_code):\n",
    "    if (filter(inner_code) == '0'):        \n",
    "        return '1' + inner_code\n",
    "    else:\n",
    "        return inner_code\n",
    "    \n",
    "print('内码为{0}时，补位结果为{1}'.format(inner_num_code,padInnerCode(inner_num_code)))\n",
    "print('内码为{0}时，补位结果为{1}'.format(inner_mix_code,padInnerCode(inner_mix_code)))"
   ]
  },
  {
   "cell_type": "markdown",
   "metadata": {},
   "source": [
    "如果过滤值为0，则在内码高位补1"
   ]
  },
  {
   "cell_type": "code",
   "execution_count": 5,
   "metadata": {},
   "outputs": [
    {
     "name": "stdout",
     "output_type": "stream",
     "text": [
      "内码为49531001649100时，补位结果为149531001649100\n",
      "内码为24310100100148A时，补位结果为24310100100148A\n"
     ]
    }
   ],
   "source": [
    "def padInnerCode(inner_code):\n",
    "    if (filter(inner_code) == '0'):        \n",
    "        return '1' + inner_code\n",
    "    else:\n",
    "        return inner_code\n",
    "    \n",
    "print('内码为{0}时，补位结果为{1}'.format(inner_num_code,padInnerCode(inner_num_code)))\n",
    "print('内码为{0}时，补位结果为{1}'.format(inner_mix_code,padInnerCode(inner_mix_code)))"
   ]
  },
  {
   "cell_type": "markdown",
   "metadata": {},
   "source": [
    "如果过滤值为0，直接将十进制字符串转为二进制字符串。如果过滤值为1，将字符串按位编码。\n",
    "编码规则:\n",
    "'0'\\~'9'转为十进制的0\\~9，'A'\\~'Z'转为十进制的10\\~35,'a'\\~'z'转为十进制的36\\~61,所以需要每个字符串需要6位即最大值2<sup>6</sup> = 64来表示所有的字符。"
   ]
  },
  {
   "cell_type": "code",
   "execution_count": 117,
   "metadata": {},
   "outputs": [
    {
     "name": "stdout",
     "output_type": "stream",
     "text": [
      "100001111111111101100110001111000111011111001100\n",
      "内码为49531001649100时，二进制字符串为100001111111111101100110001111000111011111001100\n",
      "内码为24310100100148A时，二进制字符串为000010000100000011000001000000000001000000000000000001000000000000000001000100001000001010\n"
     ]
    }
   ],
   "source": [
    "def innerCode2Bin(inner_code):\n",
    "    if (filter(inner_code) == '0'): \n",
    "        print(bin(int(padInnerCode(inner_code)))[2:])\n",
    "        return bin(int(padInnerCode(inner_code)))[2:]\n",
    "    else:\n",
    "        bin_str = ''\n",
    "        for c in padInnerCode(inner_code):\n",
    "            if (re.match('^[0-9]$',c)):\n",
    "                bin_str += bin(int(c))[2:].zfill(6)\n",
    "            elif (re.match('^[A-Z]$',c)):  \n",
    "                bin_str += bin(ord(c) - 55)[2:].zfill(6)\n",
    "            else:\n",
    "                bin_str += bin(ord(c) - 61)[2:].zfill(6)\n",
    "        return bin_str\n",
    "    \n",
    "print('内码为{0}时，二进制字符串为{1}'.format(inner_num_code,innerCode2Bin(inner_num_code)))\n",
    "print('内码为{0}时，二进制字符串为{1}'.format(inner_mix_code,innerCode2Bin(inner_mix_code)))    "
   ]
  },
  {
   "cell_type": "markdown",
   "metadata": {},
   "source": [
    "十进制序列号转为固定长度为38位的二进制字符串，"
   ]
  },
  {
   "cell_type": "code",
   "execution_count": 17,
   "metadata": {},
   "outputs": [
    {
     "name": "stdout",
     "output_type": "stream",
     "text": [
      "序号为123的二进制字符串为00000000000000000000000000000001111011\n"
     ]
    }
   ],
   "source": [
    "def serial2Bin(serial):\n",
    "    return bin(int(serial))[2:].zfill(38)\n",
    "serial = 123\n",
    "print('序号为{0}的二进制字符串为{1}'.format(serial,serial2Bin(serial)))"
   ]
  },
  {
   "cell_type": "markdown",
   "metadata": {},
   "source": [
    "计算二进制字符串总容量，总容量为 **标头** + **过滤** + **内码转换** + **序列号**"
   ]
  },
  {
   "cell_type": "code",
   "execution_count": 18,
   "metadata": {},
   "outputs": [
    {
     "name": "stdout",
     "output_type": "stream",
     "text": [
      "内码为49531001649100时，二进制字符串总容量为95\n",
      "内码为24310100100148A时，二进制字符串总容量为137\n"
     ]
    }
   ],
   "source": [
    "def capacity(inner_code):\n",
    "    return len(header + filter(inner_code) + innerCode2Bin(inner_code) + serial2Bin('0'))\n",
    "\n",
    "print('内码为{0}时，二进制字符串总容量为{1}'.format(inner_num_code,capacity(inner_num_code)))\n",
    "print('内码为{0}时，二进制字符串总容量为{1}'.format(inner_mix_code,capacity(inner_mix_code)))"
   ]
  },
  {
   "cell_type": "markdown",
   "metadata": {},
   "source": [
    "根据EPC容量，调整 **内码转换** 的容量"
   ]
  },
  {
   "cell_type": "markdown",
   "metadata": {},
   "source": [
    "内码字符串转成特定EPC容量的二进制字符串"
   ]
  },
  {
   "cell_type": "code",
   "execution_count": 48,
   "metadata": {},
   "outputs": [
    {
     "name": "stdout",
     "output_type": "stream",
     "text": [
      "内码为49531001649100 EPC容量为96时，二进制字符串为000100000010000111111111110110011000111100011101111100110000000000000000000000000000000001111011\n",
      "内码为49531001649100 EPC容量为128时，二进制字符串为00010000000000000000000000000000000000000010000111111111110110011000111100011101111100110000000000000000000000000000000001111011\n",
      "内码为49531001649100 EPC容量为256时，二进制字符串为0001000000000000000000000000000000000000000000000000000000000000000000000000000000000000000000000000000000000000000000000000000000000000000000000000000000000000000000000010000111111111110110011000111100011101111100110000000000000000000000000000000001111011\n",
      "错误：超出EPC容量96bit\n",
      "错误：超出EPC容量128bit\n",
      "内码为24310100100148A EPC容量为256时，二进制字符串为0001000010000000000000000000000000000000000000000000000000000000000000000000000000000000000000000000000000000000000000000000000000001000010000001100000100000000000100000000000000000100000000000000000100010000100000101000000000000000000000000000000001111011\n"
     ]
    }
   ],
   "source": [
    "def innerCodeSerial2Bin(inner_code, serial, epc_capacity):\n",
    "    length = capacity(inner_code)\n",
    "    if (epc_capacity < length):\n",
    "        raise HandleError('超出EPC容量{0}bit'.format(epc_capacity))\n",
    "    else:\n",
    "        return header + filter(inner_code) + ''.zfill(epc_capacity - length) + innerCode2Bin(inner_code) + serial2Bin(serial)\n",
    "\n",
    "epc_capacity = 96\n",
    "print('内码为{0} EPC容量为{1}时，二进制字符串为{2}'.format(inner_num_code,epc_capacity,innerCodeSerial2Bin(inner_num_code,serial,epc_capacity)))\n",
    "epc_capacity = 128\n",
    "print('内码为{0} EPC容量为{1}时，二进制字符串为{2}'.format(inner_num_code,epc_capacity,innerCodeSerial2Bin(inner_num_code,serial,epc_capacity)))\n",
    "epc_capacity = 256\n",
    "print('内码为{0} EPC容量为{1}时，二进制字符串为{2}'.format(inner_num_code,epc_capacity,innerCodeSerial2Bin(inner_num_code,serial,epc_capacity)))\n",
    "epc_capacity = 96\n",
    "try:\n",
    "    print('内码为{0} EPC容量为{1}时，二进制字符串为{2}'.format(inner_mix_code,epc_capacity,innerCodeSerial2Bin(inner_mix_code,serial,epc_capacity)))\n",
    "except HandleError as err:   \n",
    "    print(\"错误：\" + \"\".join(list(map(str, err.args))))\n",
    "epc_capacity = 128\n",
    "try:\n",
    "    print('内码为{0} EPC容量为{1}时，二进制字符串为{2}'.format(inner_mix_code,epc_capacity,innerCodeSerial2Bin(inner_mix_code,serial,epc_capacity)))\n",
    "except HandleError as err:\n",
    "    print(\"错误：\" + \"\".join(list(map(str, err.args))))\n",
    "epc_capacity = 256\n",
    "print('内码为{0} EPC容量为{1}时，二进制字符串为{2}'.format(inner_mix_code,epc_capacity,innerCodeSerial2Bin(inner_mix_code,serial,epc_capacity)))"
   ]
  },
  {
   "cell_type": "code",
   "execution_count": 111,
   "metadata": {},
   "outputs": [
    {
     "name": "stdout",
     "output_type": "stream",
     "text": [
      "1021ffd98f1df3000000007b\n",
      "000100000010000111111111110110011000111100011101111100110000000000000000000000000000000001111011\n"
     ]
    }
   ],
   "source": [
    "# 二进制字符串转16进制字符串\n",
    "def bin2Hex(bin_str):\n",
    "    return hex(int(bin_str, 2))\n",
    "\n",
    "print(bin2Hex('000100000010000111111111110110011000111100011101111100110000000000000000000000000000000001111011')[2:])\n",
    " \n",
    "# 16进制字符串转二进制字符串\n",
    "def hex2Bin(hex_str):\n",
    "    bin_str = bin(int(hex_str,16))[2:]\n",
    "    padding = (4-len(bin_str)%4)%4\n",
    "    return '0'*padding + bin_str\n",
    "\n",
    "print(hex2Bin('1021ffd98f1df3000000007b'))\n",
    "    "
   ]
  },
  {
   "cell_type": "markdown",
   "metadata": {},
   "source": [
    "EPC码转产品编码"
   ]
  },
  {
   "cell_type": "code",
   "execution_count": 138,
   "metadata": {},
   "outputs": [
    {
     "name": "stdout",
     "output_type": "stream",
     "text": [
      "49531001649100123\n"
     ]
    }
   ],
   "source": [
    "def decodeInnerCode(bin_str):\n",
    "    filter = bin_str[8:9]\n",
    "    code_str = bin_str[10:len(bin_str)-38]\n",
    "    serial = int(bin_str[len(bin_str)-38:],2)\n",
    "    if (filter == '0'):\n",
    "        print('1%38d'  )\n",
    "        return str(int(code_str,2))[1:] + str(serial)\n",
    "    else:\n",
    "        return ''\n",
    "    \n",
    "def decodeBarCode(bin_str):\n",
    "    print(1)\n",
    "\n",
    "def decode(hex_str):\n",
    "    bin_str = hex2Bin(hex_str)\n",
    "    header = bin_str[:8]\n",
    "    if (hex(int(header,2))[2:] == '10'):\n",
    "        decodeInnerCode(bin_str)\n",
    "    else:\n",
    "        decodeBarCode(bin_str)\n",
    "                \n",
    "\n",
    "decode('1021ffd98f1df3000000007b')"
   ]
  },
  {
   "cell_type": "code",
   "execution_count": null,
   "metadata": {},
   "outputs": [],
   "source": []
  }
 ],
 "metadata": {
  "kernelspec": {
   "display_name": "Python 3",
   "language": "python",
   "name": "python3"
  },
  "language_info": {
   "codemirror_mode": {
    "name": "ipython",
    "version": 3
   },
   "file_extension": ".py",
   "mimetype": "text/x-python",
   "name": "python",
   "nbconvert_exporter": "python",
   "pygments_lexer": "ipython3",
   "version": "3.7.6"
  }
 },
 "nbformat": 4,
 "nbformat_minor": 4
}
